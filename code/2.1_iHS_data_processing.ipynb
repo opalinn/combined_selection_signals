{
 "cells": [
  {
   "cell_type": "markdown",
   "metadata": {},
   "source": [
    "# Work with iHS data from  Johnson et al., 2018 \n",
    "\n",
    "[Link](https://www.nature.com/articles/s41559-018-0478-6)"
   ]
  },
  {
   "cell_type": "code",
   "execution_count": 2,
   "metadata": {},
   "outputs": [],
   "source": [
    "import pandas as pd\n",
    "import numpy as np\n",
    "import os"
   ]
  },
  {
   "cell_type": "markdown",
   "metadata": {},
   "source": [
    "##### Step 1. Prepairing raw data"
   ]
  },
  {
   "cell_type": "code",
   "execution_count": null,
   "metadata": {},
   "outputs": [],
   "source": [
    "ihs_files = os.listdir(\"D:\\\\iHS\")\n",
    "\n",
    "daf_cols_names = [\n",
    "    \"daf_ESN\",\n",
    "    \"daf_GWD\",\n",
    "    \"daf_LWK\",\n",
    "    \"daf_MSL\",\n",
    "    \"daf_YRI\",\n",
    "    \"daf_ACB\",\n",
    "    \"daf_ASW\",\n",
    "    \"daf_CLM\",\n",
    "    \"daf_MXL\",\n",
    "    \"daf_PEL\",\n",
    "    \"daf_PUR\",\n",
    "    \"daf_CDX\",\n",
    "    \"daf_CHB\",\n",
    "    \"daf_CHS\",\n",
    "    \"daf_JPT\",\n",
    "    \"daf_KHV\",\n",
    "    \"daf_CEU\",\n",
    "    \"daf_FIN\",\n",
    "    \"daf_GBR\",\n",
    "    \"daf_IBS\",\n",
    "    \"daf_TSI\",\n",
    "    \"daf_BEB\",\n",
    "    \"daf_GIH\",\n",
    "    \"daf_ITU\",\n",
    "    \"daf_PJL\",\n",
    "    \"daf_STU\",\n",
    "]\n",
    "\n",
    "stdIHS_cols_names = [\n",
    "    \"stdIHS_ESN\",\n",
    "    \"stdIHS_GWD\",\n",
    "    \"stdIHS_LWK\",\n",
    "    \"stdIHS_MSL\",\n",
    "    \"stdIHS_YRI\",\n",
    "    \"stdIHS_ACB\",\n",
    "    \"stdIHS_ASW\",\n",
    "    \"stdIHS_CLM\",\n",
    "    \"stdIHS_MXL\",\n",
    "    \"stdIHS_PEL\",\n",
    "    \"stdIHS_PUR\",\n",
    "    \"stdIHS_CDX\",\n",
    "    \"stdIHS_CHB\",\n",
    "    \"stdIHS_CHS\",\n",
    "    \"stdIHS_JPT\",\n",
    "    \"stdIHS_KHV\",\n",
    "    \"stdIHS_CEU\",\n",
    "    \"stdIHS_FIN\",\n",
    "    \"stdIHS_GBR\",\n",
    "    \"stdIHS_IBS\",\n",
    "    \"stdIHS_TSI\",\n",
    "    \"stdIHS_BEB\",\n",
    "    \"stdIHS_GIH\",\n",
    "    \"stdIHS_ITU\",\n",
    "    \"stdIHS_PJL\",\n",
    "    \"stdIHS_STU\",\n",
    "]\n",
    "\n",
    "ihs_files = os.listdir(\"D:\\\\iHS\")\n",
    "out_folder = \"D:\\\\iHS\\\\iHS_max_for_GBR_population\"\n",
    "os.makedirs(out_folder, exist_ok=True)\n",
    "\n",
    "for file in ihs_files:\n",
    "    file_path = os.path.join(\"D:\\\\iHS\", file)\n",
    "    df = pd.read_csv(file_path, sep=\"\\t\", comment=\"#\", low_memory=False)\n",
    "\n",
    "    # DAF\n",
    "    daf = df[\"DAF\"].str.split(\"|\", expand=True)\n",
    "    daf = daf.set_axis(daf_cols_names, axis=1)\n",
    "    daf.replace({\"NA\": np.nan}, inplace=True)\n",
    "    daf = daf.astype(dtype=\"float64\")\n",
    "    daf_gbr = pd.DataFrame(daf['daf_GBR'])\n",
    "\n",
    "    # stdiHS\n",
    "    stdIHS = df[\"stdIHS\"].str.split(\"|\", expand=True)\n",
    "    stdIHS = stdIHS.set_axis(stdIHS_cols_names, axis=1)\n",
    "    stdIHS.replace({\"NA\": np.nan}, inplace=True)\n",
    "    stdIHS = stdIHS.astype(dtype=\"float64\")\n",
    "    stdihs_gbr = pd.DataFrame(stdIHS['stdIHS_GBR'])\n",
    "\n",
    "    # concat\n",
    "    iHS_data = pd.concat(\n",
    "        [df[[\"CHR\", \"POS\", \"RSNUM\"]], daf_gbr, stdihs_gbr], axis=1)\n",
    "\n",
    "    # output filename\n",
    "    base_name = os.path.splitext(file)[0]\n",
    "    prefix = base_name.split(\".\")[0]\n",
    "    output = os.path.join(out_folder, f\"{prefix}_iHS_GBR.csv\")\n",
    "\n",
    "    iHS_data.to_csv(output, index=False)"
   ]
  },
  {
   "cell_type": "markdown",
   "metadata": {},
   "source": [
    "##### Step 2. Make .bed file with data"
   ]
  },
  {
   "cell_type": "code",
   "execution_count": 14,
   "metadata": {},
   "outputs": [],
   "source": [
    "ihs_files = os.listdir(\"D:\\\\iHS\\\\iHS_max_for_GBR_population\")\n",
    "out_folder = \"D:\\\\iHS\\\\iHS_max_GBR_formatted_bed\"\n",
    "os.makedirs(out_folder, exist_ok=True)\n",
    "\n",
    "for file in ihs_files:\n",
    "    file_path = os.path.join(\"D:\\\\iHS\\\\iHS_max_for_GBR_population\", file)\n",
    "    df = pd.read_csv(file_path, sep=',', low_memory=False)\n",
    "    df['chr'] = 'chr' + df['CHR'].astype(str)\n",
    "    df['start'] = df['POS'] - 1\n",
    "    df['end'] = df['POS']\n",
    "    df['stdIHS_GBR'] = df['stdIHS_GBR'].fillna(0)\n",
    "    final_data = df[['chr', 'start', 'end', 'stdIHS_GBR']]\n",
    "    \n",
    "    base_name = os.path.splitext(file)[0]\n",
    "    prefix = base_name.split(\".\")[0]\n",
    "    output = os.path.join(out_folder, f\"{prefix}_stdiHS_metrics_GBR.bed\")\n",
    "    final_data.to_csv(output, index=False, sep='\\t', header=False)"
   ]
  }
 ],
 "metadata": {
  "kernelspec": {
   "display_name": "Python 3",
   "language": "python",
   "name": "python3"
  },
  "language_info": {
   "codemirror_mode": {
    "name": "ipython",
    "version": 3
   },
   "file_extension": ".py",
   "mimetype": "text/x-python",
   "name": "python",
   "nbconvert_exporter": "python",
   "pygments_lexer": "ipython3",
   "version": "3.12.2"
  }
 },
 "nbformat": 4,
 "nbformat_minor": 2
}
