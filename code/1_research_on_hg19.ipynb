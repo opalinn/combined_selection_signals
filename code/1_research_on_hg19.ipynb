{
 "cells": [
  {
   "cell_type": "markdown",
   "metadata": {},
   "source": [
    "# Characterization of the human genome annotation Release 19 (GRCh37.p13)\n"
   ]
  },
  {
   "cell_type": "markdown",
   "metadata": {},
   "source": [
    "## Preparation .gff3"
   ]
  },
  {
   "cell_type": "markdown",
   "metadata": {},
   "source": [
    "1. Download [here](https://www.gencodegenes.org/human/release_19.html)\n",
    "\n",
    "2. Filter 8 columns from .gff3\n",
    "\n",
    "seqid - name of the chromosome\n",
    "\n",
    "source - HAVANA or ENSEMBL\n",
    "\n",
    "type - type of feature\n",
    "\n",
    "start - start position of the feature (!!!starting at 1)\n",
    "\n",
    "end - end position of the feature\n",
    "\n",
    "strand - defined as + (forward) or - (reverse).\n",
    "\n",
    "attributes - here we can find transcriptID, gene name and gene type \n",
    "\n",
    "```bash\n",
    "awk '{print $1, $2, $3, $4, $5, $7, $9}' gencode.v19.annotation.gff3 > annotation.txt\n",
    "```\n",
    "\n",
    "3. Types of features in column 3\n",
    "\n",
    "```bash\n",
    "cut -d ' ' -f 3 annotation.txt | sort | uniq\n",
    "\n",
    "CDS\n",
    "UTR\n",
    "exon\n",
    "gene\n",
    "start_codon\n",
    "stop_codon\n",
    "stop_codon_redefined_as_selenocysteine\n",
    "transcript\n",
    "```\n",
    "\n",
    "We need only **gene** (or **CDS** in future)\n",
    "\n",
    "```bash\n",
    "awk '$3 == \"gene\" {print}' annotation.txt > annotation_genes_new.txt\n",
    "\n",
    "awk 'BEGIN {OFS=\"\\t\"} {match($7, /gene_name=([^;]+)/, gene_name); match($7, /gene_type=([^;]+)/, gene_type); $9 = gene_name[1]; $10 = gene_type[1]; print $0}' annotation_genes_new.txt > lolkek.txt\n",
    "\n",
    "awk '{print $1, $2, $4, $5, $6, $8, $9}' lolkek.txt > hg19_genes.txt\n",
    "\n",
    "sed 's/ /        /g' hg19_genes.txt > hg19_genes_tab.txt\n",
    "```\n",
    "\n",
    "4. Sources for annotation\n",
    "\n",
    "```bash\n",
    "cut -d ' ' -f 2 annotation.txt | sort | uniq\n",
    "\n",
    "ENSEMBL\n",
    "HAVANA\n",
    "```\n",
    "\n",
    "5. Statistics \n",
    "\n",
    "Lenght 57820 \n",
    "\n",
    "From ENSEMBL 9850 annotated genes\n",
    "\n",
    "From HAVANA 47970 annotated genes\n",
    "\n",
    "GENES TYPES\n",
    "\n",
    "```bash\n",
    "cut -f 7 hg19_genes_tab.txt | sort | uniq -c\n",
    "\n",
    "     21 3prime_overlapping_ncrna\n",
    "     14 IG_C_gene\n",
    "      9 IG_C_pseudogene\n",
    "     37 IG_D_gene\n",
    "     18 IG_J_gene\n",
    "      3 IG_J_pseudogene\n",
    "    138 IG_V_gene\n",
    "    187 IG_V_pseudogene\n",
    "      2 Mt_rRNA\n",
    "     22 Mt_tRNA\n",
    "      5 TR_C_gene\n",
    "      3 TR_D_gene\n",
    "     74 TR_J_gene\n",
    "      4 TR_J_pseudogene\n",
    "     97 TR_V_gene\n",
    "     27 TR_V_pseudogene\n",
    "   5276 antisense\n",
    "   7114 lincRNA\n",
    "   3055 miRNA\n",
    "   2034 misc_RNA\n",
    "     45 polymorphic_pseudogene\n",
    "    515 processed_transcript\n",
    "  20345 protein_coding\n",
    "  13931 pseudogene\n",
    "    527 rRNA\n",
    "    742 sense_intronic\n",
    "    202 sense_overlapping\n",
    "   1916 snRNA\n",
    "   1457 snoRNA\n",
    "```\n",
    "\n",
    "- **57820** total number of genes \n",
    "\n",
    "- **37** chrM genes (13 protein coding)\n",
    "\n",
    "- **20345** protein coding **with chrM**\n",
    "\n",
    "- **57783** genes without chrM \n",
    "\n",
    "- **20332** protein coding genes without chrM "
   ]
  },
  {
   "cell_type": "markdown",
   "metadata": {},
   "source": [
    "To do `\\t` as delimiter in all file\n",
    "\n",
    "```bash\n",
    "awk 'OFS=\"\\t\" {print $1, $2, $3, $4, $5, $6, $7}' hg19_genes_0_based.bed > hg_19_genes_zero_based.txt\n",
    "```"
   ]
  },
  {
   "cell_type": "markdown",
   "metadata": {},
   "source": [
    "**For further analysis, we'll EXCLUDE mitochondrial genes (chr=='chrM')**"
   ]
  },
  {
   "cell_type": "markdown",
   "metadata": {},
   "source": [
    "```bash\n",
    "awk '$1 != \"chrM\"' \n"
   ]
  },
  {
   "cell_type": "markdown",
   "metadata": {},
   "source": [
    "## Make .bed files for bedtools"
   ]
  },
  {
   "cell_type": "markdown",
   "metadata": {},
   "source": [
    "We need to subtract 1 from the gene start (column #3) in the 1-based file\n",
    "\n",
    "```bash\n",
    "awk '{ $3 = $3 - 1; print }'\n",
    "```\n",
    "\n",
    "After sort \n",
    "\n",
    "```bash\n",
    "sort -k1,1 -k2,2n \n",
    "```\n",
    "\n",
    "Choose columns with chr, start, stop, gene_name and get _4fields.bed\n",
    "\n",
    "```bash\n",
    "awk '{print $1, $3, $4, $5}' hg19_genes_formatted.bed > hg19_genes_4fieldbed.bed\n",
    "```\n",
    "\n",
    "-500 from start and +500 to end values in hg19_genes_4fields.bed [link](https://www.sciencedirect.com/topics/medicine-and-dentistry/gene-promoter#:~:text=Promoter%20is%20a%20short%20DNA,of%20a%20potential%20mRNA%20molecule.)\n",
    "\n",
    "```bash\n",
    "awk '{ $2 = $2 - 500; $3 = $3 + 500; print }' hg19_genes_4fieldbed.bed > hg19_genes_500.bed\n",
    "\n",
    "awk -F'\\t' '{ $2 = $2 - 500; $3 = $3 + 500; OFS=\"\\t\"; print $0}' annotation_genes_sorted.bed > hg19_genes_500_so\n",
    "rted.bed\n",
    "```"
   ]
  },
  {
   "cell_type": "markdown",
   "metadata": {},
   "source": [
    "All work with **hg19_genes_500.bed** bed file without chrM and **hg19_genes_formatted.bed**"
   ]
  }
 ],
 "metadata": {
  "kernelspec": {
   "display_name": "Python 3",
   "language": "python",
   "name": "python3"
  },
  "language_info": {
   "codemirror_mode": {
    "name": "ipython",
    "version": 3
   },
   "file_extension": ".py",
   "mimetype": "text/x-python",
   "name": "python",
   "nbconvert_exporter": "python",
   "pygments_lexer": "ipython3",
   "version": "3.12.2"
  }
 },
 "nbformat": 4,
 "nbformat_minor": 2
}
