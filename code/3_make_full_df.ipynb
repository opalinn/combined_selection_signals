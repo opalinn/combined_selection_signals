{
 "cells": [
  {
   "cell_type": "markdown",
   "metadata": {},
   "source": [
    "# Making dataframe with all metrics for project"
   ]
  },
  {
   "cell_type": "code",
   "execution_count": 1,
   "metadata": {},
   "outputs": [],
   "source": [
    "import pandas as pd\n",
    "import numpy as np\n",
    "import os\n",
    "from collections import defaultdict\n",
    "\n",
    "#from statsmodels.stats.multitest import fdrcorrection\n",
    "\n",
    "current_dir = os.getcwd()"
   ]
  },
  {
   "cell_type": "code",
   "execution_count": 2,
   "metadata": {},
   "outputs": [],
   "source": [
    "annot = pd.read_csv(os.path.join(current_dir, '..', 'data', 'annotation', 'hg19_genes_zero_based.txt'), sep='\\t',\n",
    "                    names=['chr', 'start', 'end', 'strand', 'gene_name', 'gene_type'])"
   ]
  },
  {
   "cell_type": "markdown",
   "metadata": {},
   "source": [
    "### Step 1. gerp+phast+phylo data"
   ]
  },
  {
   "cell_type": "markdown",
   "metadata": {},
   "source": [
    "**Goal**: From the files obtained after bedtools map with the calculated sum of signals per gene, obtain a data frame with the average value of the metric per gene."
   ]
  },
  {
   "cell_type": "code",
   "execution_count": 83,
   "metadata": {},
   "outputs": [
    {
     "data": {
      "text/plain": [
       "['gerp_500_RS_by_gene.bed',\n",
       " 'gerp_RS_by_gene.bed',\n",
       " 'phastCons_500_by_gene.bed',\n",
       " 'phastCons_by_gene.bed',\n",
       " 'phyloP_500_by_gene.bed',\n",
       " 'phyloP_by_gene.bed']"
      ]
     },
     "execution_count": 83,
     "metadata": {},
     "output_type": "execute_result"
    }
   ],
   "source": [
    "#get current working dir and check files in folder\n",
    "current_dir = os.getcwd()\n",
    "os.listdir(os.path.join(current_dir, '..', 'data', 'gerp_phast_phylo'))"
   ]
  },
  {
   "cell_type": "code",
   "execution_count": 20,
   "metadata": {},
   "outputs": [],
   "source": [
    "#read columns with values in dfs\n",
    "files_info = {\n",
    "    'gerp_RS_by_gene.bed': 'RS_value',\n",
    "    'gerp_500_RS_by_gene.bed': 'RS_500_value',\n",
    "    'phastCons_by_gene.bed': 'phast_value',\n",
    "    'phastCons_500_by_gene.bed': 'phast_500_value',\n",
    "    'phyloP_by_gene.bed': 'phylo_value',\n",
    "    'phyloP_500_by_gene.bed': 'phylo_500_value'}\n",
    "\n",
    "col_names = ['chr', 'start', 'end', 'gene_name', 'sum_value']\n",
    "dfs = pd.DataFrame()\n",
    "\n",
    "for file_name, new_col_name in files_info.items():\n",
    "    file_path = os.path.abspath(os.path.join(current_dir, '..', 'data', 'gerp_phast_phylo', file_name))\n",
    "    df = pd.read_csv(file_path, sep='\\t', names=col_names)\n",
    "    df = df.rename(columns={'sum_value': new_col_name})  \n",
    "    dfs[new_col_name] = df[new_col_name]"
   ]
  },
  {
   "cell_type": "code",
   "execution_count": 21,
   "metadata": {},
   "outputs": [],
   "source": [
    "#change dtypes\n",
    "dfs = dfs.replace(to_replace='.', value=np.nan)\n",
    "dfs = dfs.astype(dtype='float64')\n",
    "\n",
    "#add features\n",
    "genes_data = pd.read_csv(os.path.join(current_dir, '..', 'data', 'annotation', 'hg19_genes_zero_based.txt'),\n",
    "                         sep='\\t', header=None, names=['chr', 'start', 'end', 'strand', 'gene_name', 'gene_type'])\n",
    "\n",
    "g_data = genes_data[['chr', 'start', 'end', 'gene_name', 'gene_type']]\n",
    "gpp_all_genes = pd.concat([g_data, dfs], axis=1)"
   ]
  },
  {
   "cell_type": "code",
   "execution_count": 22,
   "metadata": {},
   "outputs": [],
   "source": [
    "#add gene lenght and change column order\n",
    "gpp_all_genes['gene_len'] = gpp_all_genes['end'] - gpp_all_genes['start']\n",
    "gpp_all_genes['gene_len_500'] = (gpp_all_genes['end'] + 500) - (gpp_all_genes['start'] - 500)\n",
    "\n",
    "gpp_all_genes = gpp_all_genes[['chr', 'start', 'end', 'gene_name', 'gene_type', \n",
    "                                'gene_len', 'gene_len_500', 'RS_value', 'RS_500_value', \n",
    "                                'phast_value', 'phast_500_value', 'phylo_value', 'phylo_500_value']]"
   ]
  },
  {
   "cell_type": "code",
   "execution_count": 23,
   "metadata": {},
   "outputs": [],
   "source": [
    "#count mean for metrics\n",
    "value_columns = ['RS_value', 'phast_value', 'phylo_value']\n",
    "for col in value_columns:\n",
    "    gpp_all_genes[col] = gpp_all_genes[col] / gpp_all_genes['gene_len']\n",
    "\n",
    "value_columns_500 = ['RS_500_value', 'phast_500_value', 'phylo_500_value']\n",
    "for col in value_columns_500:\n",
    "    gpp_all_genes[col] = gpp_all_genes[col] / gpp_all_genes['gene_len_500']"
   ]
  },
  {
   "cell_type": "code",
   "execution_count": null,
   "metadata": {},
   "outputs": [],
   "source": [
    "#check result\n",
    "gpp_all_genes"
   ]
  },
  {
   "cell_type": "code",
   "execution_count": 25,
   "metadata": {},
   "outputs": [],
   "source": [
    "#save ucsc metrics in `gpp_data_all_genes.tsv` (GerpPhastPhylo = gpp)\n",
    "file_name_gpp = 'gpp_data_all_genes.tsv'\n",
    "file_path_to_gpp = os.path.abspath(os.path.join(current_dir, '..', 'data', 'merged_data', file_name_gpp))\n",
    "gpp_all_genes.to_csv(file_path_to_gpp, sep='\\t', index=False, header=True)"
   ]
  },
  {
   "cell_type": "markdown",
   "metadata": {},
   "source": [
    "### Step 2. iHS data extraction and preparation"
   ]
  },
  {
   "cell_type": "markdown",
   "metadata": {},
   "source": [
    "Strange data format:\n",
    "\n",
    "DAF = derived allele frequency\n",
    "\n",
    "stdiHS = standardized iHS score\n",
    "\n",
    "populations = ESN|GWD|LWK|MSL|YRI|ACB|ASW|CLM|MXL|PEL|PUR|CDX|CHB|CHS|JPT|KHV|CEU|FIN|GBR|IBS|TSI|BEB|GIH|ITU|PJL|STU\n",
    "\n",
    "```bash\n",
    "CHR\tPOS\tRSNUM\tDAF\tstdIHS\n",
    "21\t9509809\trs370181688\t[DAF for all 26 populations, sep='|']\\t[stdIHS for all 26 populations, sep='|']\n",
    "```\n",
    "\n",
    "Data processing via `2.1_iHS_data_processing.ipynb` script to get files with DAF and stdiHS for each chromosome"
   ]
  },
  {
   "cell_type": "code",
   "execution_count": null,
   "metadata": {},
   "outputs": [],
   "source": [
    "#modified script to search for the first maximum among all signal values in a certain position\n",
    "#get only standardized iHS metrics from each file\n",
    "'''\n",
    "ihs_files = os.listdir(\"D:\\\\iHS\\\\iHS_first_max\")\n",
    "out_folder = \"D:\\\\iHS\\\\iHS_max_formatted_bed\"\n",
    "os.makedirs(out_folder, exist_ok=True)\n",
    "\n",
    "for file in ihs_files:\n",
    "    file_path = os.path.join(\"D:\\\\iHS\\\\iHS_first_max\\\\\", file)\n",
    "    df = pd.read_csv(file_path, sep=',', low_memory=False)\n",
    "    df['chr'] = 'chr' + df['CHR'].astype(str)\n",
    "    df['start'] = df['POS'] - 1\n",
    "    df['end'] = df['POS']\n",
    "    df['max_stdiHS'] = df['max_stdiHS'].fillna(0)\n",
    "    final_data = df[['chr', 'start', 'end', 'max_stdiHS']]\n",
    "    \n",
    "    base_name = os.path.splitext(file)[0]\n",
    "    prefix = base_name.split(\".\")[0]\n",
    "    output = os.path.join(out_folder, f\"{prefix}_iHS_metrics.bed\")\n",
    "    final_data.to_csv(output, index=False, sep='\\t', header=False)\n",
    "'''"
   ]
  },
  {
   "cell_type": "markdown",
   "metadata": {},
   "source": [
    "After getting stdiHS we need to merge all the files with data for each chromosome into one common file:\n",
    "\n",
    "```bash\n",
    "cat *.bed > iHS_stdiHS_merged.bed\n",
    "```\n",
    "Check result:\n",
    "```bash\n",
    "awk '{print $1}' iHS_stdiHS_merged.bed | uniq\n",
    "```\n",
    "Sort:\n",
    "```bash\n",
    "sort -k1,1 -k2,2n iHS_stdiHS_merged.bed > iHS_std_sorted.bed\n",
    "```\n",
    "Run `bedtools map` to obtain max value on gene level:\n",
    "```bash\n",
    "bedtools map -o max -a hg19_0_based_500.bed -b iHS_std_sorted.bed -c 4 > iHS_max_by_gene_500.bed\n",
    "```\n",
    "\n",
    "After all steps we need to concat gpp with iHS data"
   ]
  },
  {
   "cell_type": "code",
   "execution_count": 11,
   "metadata": {},
   "outputs": [],
   "source": [
    "#read data and replace missing values ('.') with np.nan\n",
    "col_names = ['chr', 'start', 'end', 'gene_name', 'iHS_GBR_max_500']\n",
    "\n",
    "dfs = pd.read_csv(os.path.join(current_dir, '..', 'data', 'iHS', 'iHS_max_GBR_by_gene_500.bed'),\n",
    "                  sep='\\t', header=None, names=col_names)\n",
    "\n",
    "dfs = dfs.replace(to_replace='.', value=np.nan)\n",
    "dfs['iHS_GBR_max_500'] = dfs['iHS_GBR_max_500'].astype(dtype='float64')\n",
    "\n",
    "#read gpp data\n",
    "gpp = pd.read_csv(os.path.join(current_dir, '..', 'data', 'merged_data', 'gpp_data_all_genes.tsv'), sep='\\t')"
   ]
  },
  {
   "cell_type": "code",
   "execution_count": 31,
   "metadata": {},
   "outputs": [],
   "source": [
    "#get dataframe to concat and count p-values\n",
    "col_names_snp = ['chr', 'start', 'end', 'gene_name', 'iHS_snps_per_gene']\n",
    "\n",
    "counts = pd.read_csv(os.path.join(current_dir, '..', 'data', 'iHS', 'iHS_counts_per_gene_500.bed'),\n",
    "                  sep='\\t', header=None, names=col_names_snp)\n",
    "\n",
    "counts = counts.replace(to_replace='.', value=np.nan)\n",
    "counts['iHS_snps_per_gene'] = counts['iHS_snps_per_gene'].astype(dtype='float64')\n",
    "\n",
    "counts = counts.join(dfs['iHS_GBR_max_500'])"
   ]
  },
  {
   "cell_type": "markdown",
   "metadata": {},
   "source": [
    "Count p-values for iHS (and fdr correction) and expected iHS\n",
    "\n",
    "**Count pvals for iHS_max**\n",
    "\n",
    "However, as indicated in the [thread](https://stats.stackexchange.com/questions/381212/distribution-of-maximum-of-normally-distributed-random-variables), we can do even better by taking the actual probability (p-value) of a given gene-wise maximum iHS value. \n",
    "\n",
    "The CDF (P(max(Y) < y)) = P(X1 < y) * … * P(Xn < y) [in other words, the maximum of n random variables is less than a given number y if value of each random variable are less than y]. \n",
    "\n",
    "In our case, we need P(max(Y) >= y) rather than P(max(Y) < y), so we can compute the p-value as p = 1 - pnorm(gene_max_ihs)^n_snp"
   ]
  },
  {
   "cell_type": "code",
   "execution_count": 51,
   "metadata": {},
   "outputs": [],
   "source": [
    "from scipy.stats import stats, norm\n",
    "\n",
    "#expected iHS\n",
    "counts['expected_iHS'] = norm.ppf(1 - (1 / counts['iHS_snps_per_gene']))\n",
    "counts['expected_iHS'] = counts['expected_iHS'].replace(to_replace=-np.inf, value=np.nan)\n",
    "\n",
    "#pval\n",
    "mask = counts[['iHS_GBR_max_500', 'iHS_snps_per_gene']].isna().any(axis=1)\n",
    "counts['pval_iHS_max'] = np.where(mask, np.nan, \n",
    "                                  1 - (norm.cdf(counts['iHS_GBR_max_500']) ** counts['iHS_snps_per_gene']))\n",
    "\n",
    "#pval with fdr correction\n",
    "from scipy import stats\n",
    "pval_mask = counts['pval_iHS_max'].notna()\n",
    "fdr_corrected = stats.false_discovery_control(\n",
    "    ps=counts.loc[pval_mask, 'pval_iHS_max'], \n",
    "    method='bh')\n",
    "\n",
    "counts['pval_iHS_max_fdr'] = np.nan  \n",
    "counts.loc[pval_mask, 'pval_iHS_max_fdr'] = fdr_corrected"
   ]
  },
  {
   "cell_type": "code",
   "execution_count": 81,
   "metadata": {},
   "outputs": [
    {
     "data": {
      "text/plain": [
       "count    0.0\n",
       "mean     NaN\n",
       "std      NaN\n",
       "min      NaN\n",
       "25%      NaN\n",
       "50%      NaN\n",
       "75%      NaN\n",
       "max      NaN\n",
       "Name: pval_iHS_max_fdr, dtype: float64"
      ]
     },
     "execution_count": 81,
     "metadata": {},
     "output_type": "execute_result"
    }
   ],
   "source": [
    "#check correctness \n",
    "counts_0 = counts[counts['iHS_GBR_max_500'].isna()]\n",
    "counts_0.pval_iHS_max_fdr.describe()"
   ]
  },
  {
   "cell_type": "code",
   "execution_count": 84,
   "metadata": {},
   "outputs": [],
   "source": [
    "#merging gpp and iHS\n",
    "merged_df = pd.concat([gpp, counts[['iHS_GBR_max_500', 'expected_iHS', 'iHS_snps_per_gene', 'pval_iHS_max', 'pval_iHS_max_fdr']]], axis=1)\n",
    "\n",
    "#save file with gpp and iHS\n",
    "merged_df.to_csv(os.path.join(current_dir, '..', 'data', 'merged_data', 'gpp_iHS_GBR.tsv'), sep='\\t', index=False, header=True)"
   ]
  },
  {
   "cell_type": "markdown",
   "metadata": {},
   "source": [
    "### Step 3. Merge gpp+iHS with \n",
    "\n",
    "- gnomAD\n",
    "\n",
    "- DRC150\n",
    "\n",
    "- SDS\n",
    "\n",
    "- number of GO terms for each gene (BP, MF) \n",
    "\n",
    "- number of protein-protein interactions (from BioGRID database)\n",
    "\n",
    "- GTEx data"
   ]
  },
  {
   "cell_type": "code",
   "execution_count": 18,
   "metadata": {},
   "outputs": [],
   "source": [
    "#read gnomAD data \n",
    "df_gnomad = pd.read_csv(os.path.join(current_dir, '..', 'data', 'gnomAD', 'gnomad_metrics.csv'), sep=',')\n",
    "\n",
    "#read gpp+iHS data\n",
    "gpp_ihs = pd.read_csv(os.path.join(current_dir, '..', 'data', 'merged_data', 'gpp_iHS_GBR.tsv'), sep='\\t')\n",
    "\n",
    "#read GO data\n",
    "go = pd.read_csv(os.path.abspath(os.path.join(current_dir, '..', 'data', 'go_analysis',\n",
    "                                            'go_all_genes_counts_bp_mf.csv')), sep=',')\n",
    "\n",
    "#read BioGRID data\n",
    "biogrid = pd.read_csv(os.path.join(current_dir, '..', 'data', 'biogrid',\n",
    "                    'biogrid_n_interactions_per_gene.tsv'), sep='\\t')"
   ]
  },
  {
   "cell_type": "markdown",
   "metadata": {},
   "source": [
    "Add data of positive selection signals: [DRC150](https://www.nature.com/articles/s41588-018-0177-x) and [SDS values](https://www.science.org/doi/10.1126/science.aag0776) "
   ]
  },
  {
   "cell_type": "code",
   "execution_count": 26,
   "metadata": {},
   "outputs": [],
   "source": [
    "#read drc150\n",
    "path_to_drc150 = os.path.abspath(os.path.join(current_dir, '..', 'data', 'drc150_positive_selection', \n",
    "                                              'DRC150_max_by_gene_500.bed'))\n",
    "df_drc = pd.read_csv(path_to_drc150, sep='\\t', names=['chr', 'start', 'end', 'gene_name', 'DRC150'])\n",
    "\n",
    "df_drc = df_drc.replace(to_replace='.', value=np.nan)\n",
    "df_drc['DRC150'] = df_drc['DRC150'].astype(dtype='float64')\n",
    "\n",
    "#read sds data\n",
    "path_to_sds = os.path.abspath(os.path.join(current_dir, '..', 'data', 'sds_positive_selection',\n",
    "                                           'SDS_max_by_gene_500.bed'))\n",
    "df_sds = pd.read_csv(path_to_sds, sep='\\t', names=['chr', 'start', 'end', 'gene_name', 'SDS'])\n",
    "df_sds = df_sds.replace(to_replace='.', value=np.nan)\n",
    "df_sds['SDS'] = df_sds['SDS'].astype(dtype='float64')"
   ]
  },
  {
   "cell_type": "markdown",
   "metadata": {},
   "source": [
    "Add number of significiant SNPs from raw DRC150 data (p-value with fdr < 0.05)"
   ]
  },
  {
   "cell_type": "code",
   "execution_count": 27,
   "metadata": {},
   "outputs": [],
   "source": [
    "path_to_drc = os.path.join(current_dir, '..', 'data', 'drc150_positive_selection', 'drc150_FDR_signif_snp_counts_per_gene.bed')\n",
    "drc150_snp_count = pd.read_csv(path_to_drc, sep='\\t', \n",
    "                               names=['chr', 'start', 'end', 'gene_name', 'DRC150_signif_snp_count'])"
   ]
  },
  {
   "cell_type": "markdown",
   "metadata": {},
   "source": [
    "Merging gpp_ihs with DRC and SDS"
   ]
  },
  {
   "cell_type": "code",
   "execution_count": 35,
   "metadata": {},
   "outputs": [
    {
     "data": {
      "text/html": [
       "<div>\n",
       "<style scoped>\n",
       "    .dataframe tbody tr th:only-of-type {\n",
       "        vertical-align: middle;\n",
       "    }\n",
       "\n",
       "    .dataframe tbody tr th {\n",
       "        vertical-align: top;\n",
       "    }\n",
       "\n",
       "    .dataframe thead th {\n",
       "        text-align: right;\n",
       "    }\n",
       "</style>\n",
       "<table border=\"1\" class=\"dataframe\">\n",
       "  <thead>\n",
       "    <tr style=\"text-align: right;\">\n",
       "      <th></th>\n",
       "      <th>chr</th>\n",
       "      <th>start</th>\n",
       "      <th>end</th>\n",
       "      <th>gene_name</th>\n",
       "      <th>gene_type</th>\n",
       "      <th>gene_len</th>\n",
       "      <th>gene_len_500</th>\n",
       "      <th>RS_value</th>\n",
       "      <th>RS_500_value</th>\n",
       "      <th>phast_value</th>\n",
       "      <th>...</th>\n",
       "      <th>phylo_value</th>\n",
       "      <th>phylo_500_value</th>\n",
       "      <th>iHS_GBR_max_500</th>\n",
       "      <th>expected_iHS</th>\n",
       "      <th>iHS_snps_per_gene</th>\n",
       "      <th>pval_iHS_max</th>\n",
       "      <th>pval_iHS_max_fdr</th>\n",
       "      <th>DRC150</th>\n",
       "      <th>SDS</th>\n",
       "      <th>DRC150_signif_snp_count</th>\n",
       "    </tr>\n",
       "  </thead>\n",
       "  <tbody>\n",
       "    <tr>\n",
       "      <th>0</th>\n",
       "      <td>chr1</td>\n",
       "      <td>11868</td>\n",
       "      <td>14412</td>\n",
       "      <td>DDX11L1</td>\n",
       "      <td>pseudogene</td>\n",
       "      <td>2544</td>\n",
       "      <td>3544</td>\n",
       "      <td>-0.234778</td>\n",
       "      <td>-0.221300</td>\n",
       "      <td>0.105669</td>\n",
       "      <td>...</td>\n",
       "      <td>0.237890</td>\n",
       "      <td>0.240297</td>\n",
       "      <td>NaN</td>\n",
       "      <td>NaN</td>\n",
       "      <td>0.0</td>\n",
       "      <td>NaN</td>\n",
       "      <td>NaN</td>\n",
       "      <td>NaN</td>\n",
       "      <td>NaN</td>\n",
       "      <td>0</td>\n",
       "    </tr>\n",
       "    <tr>\n",
       "      <th>1</th>\n",
       "      <td>chr1</td>\n",
       "      <td>14362</td>\n",
       "      <td>29806</td>\n",
       "      <td>WASH7P</td>\n",
       "      <td>pseudogene</td>\n",
       "      <td>15444</td>\n",
       "      <td>16444</td>\n",
       "      <td>-0.234015</td>\n",
       "      <td>-0.233031</td>\n",
       "      <td>0.060497</td>\n",
       "      <td>...</td>\n",
       "      <td>0.129629</td>\n",
       "      <td>0.108072</td>\n",
       "      <td>0.0</td>\n",
       "      <td>0.674490</td>\n",
       "      <td>4.0</td>\n",
       "      <td>0.937500</td>\n",
       "      <td>1.0</td>\n",
       "      <td>NaN</td>\n",
       "      <td>NaN</td>\n",
       "      <td>0</td>\n",
       "    </tr>\n",
       "    <tr>\n",
       "      <th>2</th>\n",
       "      <td>chr1</td>\n",
       "      <td>29553</td>\n",
       "      <td>31109</td>\n",
       "      <td>MIR1302-11</td>\n",
       "      <td>lincRNA</td>\n",
       "      <td>1556</td>\n",
       "      <td>2556</td>\n",
       "      <td>-0.187395</td>\n",
       "      <td>-0.189201</td>\n",
       "      <td>0.037335</td>\n",
       "      <td>...</td>\n",
       "      <td>-0.153312</td>\n",
       "      <td>-0.165173</td>\n",
       "      <td>0.0</td>\n",
       "      <td>NaN</td>\n",
       "      <td>1.0</td>\n",
       "      <td>0.500000</td>\n",
       "      <td>1.0</td>\n",
       "      <td>NaN</td>\n",
       "      <td>NaN</td>\n",
       "      <td>0</td>\n",
       "    </tr>\n",
       "    <tr>\n",
       "      <th>3</th>\n",
       "      <td>chr1</td>\n",
       "      <td>34553</td>\n",
       "      <td>36081</td>\n",
       "      <td>FAM138A</td>\n",
       "      <td>lincRNA</td>\n",
       "      <td>1528</td>\n",
       "      <td>2528</td>\n",
       "      <td>-0.214907</td>\n",
       "      <td>-0.200191</td>\n",
       "      <td>0.048410</td>\n",
       "      <td>...</td>\n",
       "      <td>0.003804</td>\n",
       "      <td>0.058636</td>\n",
       "      <td>NaN</td>\n",
       "      <td>NaN</td>\n",
       "      <td>0.0</td>\n",
       "      <td>NaN</td>\n",
       "      <td>NaN</td>\n",
       "      <td>NaN</td>\n",
       "      <td>NaN</td>\n",
       "      <td>0</td>\n",
       "    </tr>\n",
       "    <tr>\n",
       "      <th>4</th>\n",
       "      <td>chr1</td>\n",
       "      <td>52472</td>\n",
       "      <td>54936</td>\n",
       "      <td>OR4G4P</td>\n",
       "      <td>pseudogene</td>\n",
       "      <td>2464</td>\n",
       "      <td>3464</td>\n",
       "      <td>-0.150520</td>\n",
       "      <td>-0.199254</td>\n",
       "      <td>0.077379</td>\n",
       "      <td>...</td>\n",
       "      <td>0.134280</td>\n",
       "      <td>0.056223</td>\n",
       "      <td>0.0</td>\n",
       "      <td>1.281552</td>\n",
       "      <td>10.0</td>\n",
       "      <td>0.999023</td>\n",
       "      <td>1.0</td>\n",
       "      <td>NaN</td>\n",
       "      <td>NaN</td>\n",
       "      <td>0</td>\n",
       "    </tr>\n",
       "    <tr>\n",
       "      <th>...</th>\n",
       "      <td>...</td>\n",
       "      <td>...</td>\n",
       "      <td>...</td>\n",
       "      <td>...</td>\n",
       "      <td>...</td>\n",
       "      <td>...</td>\n",
       "      <td>...</td>\n",
       "      <td>...</td>\n",
       "      <td>...</td>\n",
       "      <td>...</td>\n",
       "      <td>...</td>\n",
       "      <td>...</td>\n",
       "      <td>...</td>\n",
       "      <td>...</td>\n",
       "      <td>...</td>\n",
       "      <td>...</td>\n",
       "      <td>...</td>\n",
       "      <td>...</td>\n",
       "      <td>...</td>\n",
       "      <td>...</td>\n",
       "      <td>...</td>\n",
       "    </tr>\n",
       "    <tr>\n",
       "      <th>57778</th>\n",
       "      <td>chrY</td>\n",
       "      <td>59330251</td>\n",
       "      <td>59343488</td>\n",
       "      <td>IL9R</td>\n",
       "      <td>protein_coding</td>\n",
       "      <td>13237</td>\n",
       "      <td>14237</td>\n",
       "      <td>-0.283951</td>\n",
       "      <td>-0.290134</td>\n",
       "      <td>0.060365</td>\n",
       "      <td>...</td>\n",
       "      <td>-0.078255</td>\n",
       "      <td>-0.082713</td>\n",
       "      <td>NaN</td>\n",
       "      <td>NaN</td>\n",
       "      <td>0.0</td>\n",
       "      <td>NaN</td>\n",
       "      <td>NaN</td>\n",
       "      <td>NaN</td>\n",
       "      <td>NaN</td>\n",
       "      <td>0</td>\n",
       "    </tr>\n",
       "    <tr>\n",
       "      <th>57779</th>\n",
       "      <td>chrY</td>\n",
       "      <td>59336888</td>\n",
       "      <td>59358305</td>\n",
       "      <td>AJ271736.10</td>\n",
       "      <td>processed_transcript</td>\n",
       "      <td>21417</td>\n",
       "      <td>22417</td>\n",
       "      <td>-0.131159</td>\n",
       "      <td>-0.134897</td>\n",
       "      <td>0.079113</td>\n",
       "      <td>...</td>\n",
       "      <td>0.108522</td>\n",
       "      <td>0.110373</td>\n",
       "      <td>NaN</td>\n",
       "      <td>NaN</td>\n",
       "      <td>0.0</td>\n",
       "      <td>NaN</td>\n",
       "      <td>NaN</td>\n",
       "      <td>NaN</td>\n",
       "      <td>NaN</td>\n",
       "      <td>0</td>\n",
       "    </tr>\n",
       "    <tr>\n",
       "      <th>57780</th>\n",
       "      <td>chrY</td>\n",
       "      <td>59347293</td>\n",
       "      <td>59349508</td>\n",
       "      <td>WASIR1</td>\n",
       "      <td>antisense</td>\n",
       "      <td>2215</td>\n",
       "      <td>3215</td>\n",
       "      <td>0.000000</td>\n",
       "      <td>0.000000</td>\n",
       "      <td>0.069377</td>\n",
       "      <td>...</td>\n",
       "      <td>-0.042003</td>\n",
       "      <td>-0.034462</td>\n",
       "      <td>NaN</td>\n",
       "      <td>NaN</td>\n",
       "      <td>0.0</td>\n",
       "      <td>NaN</td>\n",
       "      <td>NaN</td>\n",
       "      <td>NaN</td>\n",
       "      <td>NaN</td>\n",
       "      <td>0</td>\n",
       "    </tr>\n",
       "    <tr>\n",
       "      <th>57781</th>\n",
       "      <td>chrY</td>\n",
       "      <td>59353496</td>\n",
       "      <td>59358381</td>\n",
       "      <td>WASH6P</td>\n",
       "      <td>pseudogene</td>\n",
       "      <td>4885</td>\n",
       "      <td>5885</td>\n",
       "      <td>-0.140084</td>\n",
       "      <td>-0.142133</td>\n",
       "      <td>0.136902</td>\n",
       "      <td>...</td>\n",
       "      <td>0.637514</td>\n",
       "      <td>0.534463</td>\n",
       "      <td>NaN</td>\n",
       "      <td>NaN</td>\n",
       "      <td>0.0</td>\n",
       "      <td>NaN</td>\n",
       "      <td>NaN</td>\n",
       "      <td>NaN</td>\n",
       "      <td>NaN</td>\n",
       "      <td>0</td>\n",
       "    </tr>\n",
       "    <tr>\n",
       "      <th>57782</th>\n",
       "      <td>chrY</td>\n",
       "      <td>59358328</td>\n",
       "      <td>59360854</td>\n",
       "      <td>DDX11L16</td>\n",
       "      <td>pseudogene</td>\n",
       "      <td>2526</td>\n",
       "      <td>3526</td>\n",
       "      <td>-0.151930</td>\n",
       "      <td>-0.144523</td>\n",
       "      <td>0.131968</td>\n",
       "      <td>...</td>\n",
       "      <td>0.398545</td>\n",
       "      <td>0.383593</td>\n",
       "      <td>NaN</td>\n",
       "      <td>NaN</td>\n",
       "      <td>0.0</td>\n",
       "      <td>NaN</td>\n",
       "      <td>NaN</td>\n",
       "      <td>NaN</td>\n",
       "      <td>NaN</td>\n",
       "      <td>0</td>\n",
       "    </tr>\n",
       "  </tbody>\n",
       "</table>\n",
       "<p>57783 rows × 21 columns</p>\n",
       "</div>"
      ],
      "text/plain": [
       "        chr     start       end    gene_name             gene_type  gene_len  \\\n",
       "0      chr1     11868     14412      DDX11L1            pseudogene      2544   \n",
       "1      chr1     14362     29806       WASH7P            pseudogene     15444   \n",
       "2      chr1     29553     31109   MIR1302-11               lincRNA      1556   \n",
       "3      chr1     34553     36081      FAM138A               lincRNA      1528   \n",
       "4      chr1     52472     54936       OR4G4P            pseudogene      2464   \n",
       "...     ...       ...       ...          ...                   ...       ...   \n",
       "57778  chrY  59330251  59343488         IL9R        protein_coding     13237   \n",
       "57779  chrY  59336888  59358305  AJ271736.10  processed_transcript     21417   \n",
       "57780  chrY  59347293  59349508       WASIR1             antisense      2215   \n",
       "57781  chrY  59353496  59358381       WASH6P            pseudogene      4885   \n",
       "57782  chrY  59358328  59360854     DDX11L16            pseudogene      2526   \n",
       "\n",
       "       gene_len_500  RS_value  RS_500_value  phast_value  ...  phylo_value  \\\n",
       "0              3544 -0.234778     -0.221300     0.105669  ...     0.237890   \n",
       "1             16444 -0.234015     -0.233031     0.060497  ...     0.129629   \n",
       "2              2556 -0.187395     -0.189201     0.037335  ...    -0.153312   \n",
       "3              2528 -0.214907     -0.200191     0.048410  ...     0.003804   \n",
       "4              3464 -0.150520     -0.199254     0.077379  ...     0.134280   \n",
       "...             ...       ...           ...          ...  ...          ...   \n",
       "57778         14237 -0.283951     -0.290134     0.060365  ...    -0.078255   \n",
       "57779         22417 -0.131159     -0.134897     0.079113  ...     0.108522   \n",
       "57780          3215  0.000000      0.000000     0.069377  ...    -0.042003   \n",
       "57781          5885 -0.140084     -0.142133     0.136902  ...     0.637514   \n",
       "57782          3526 -0.151930     -0.144523     0.131968  ...     0.398545   \n",
       "\n",
       "       phylo_500_value  iHS_GBR_max_500  expected_iHS  iHS_snps_per_gene  \\\n",
       "0             0.240297              NaN           NaN                0.0   \n",
       "1             0.108072              0.0      0.674490                4.0   \n",
       "2            -0.165173              0.0           NaN                1.0   \n",
       "3             0.058636              NaN           NaN                0.0   \n",
       "4             0.056223              0.0      1.281552               10.0   \n",
       "...                ...              ...           ...                ...   \n",
       "57778        -0.082713              NaN           NaN                0.0   \n",
       "57779         0.110373              NaN           NaN                0.0   \n",
       "57780        -0.034462              NaN           NaN                0.0   \n",
       "57781         0.534463              NaN           NaN                0.0   \n",
       "57782         0.383593              NaN           NaN                0.0   \n",
       "\n",
       "       pval_iHS_max  pval_iHS_max_fdr  DRC150  SDS  DRC150_signif_snp_count  \n",
       "0               NaN               NaN     NaN  NaN                        0  \n",
       "1          0.937500               1.0     NaN  NaN                        0  \n",
       "2          0.500000               1.0     NaN  NaN                        0  \n",
       "3               NaN               NaN     NaN  NaN                        0  \n",
       "4          0.999023               1.0     NaN  NaN                        0  \n",
       "...             ...               ...     ...  ...                      ...  \n",
       "57778           NaN               NaN     NaN  NaN                        0  \n",
       "57779           NaN               NaN     NaN  NaN                        0  \n",
       "57780           NaN               NaN     NaN  NaN                        0  \n",
       "57781           NaN               NaN     NaN  NaN                        0  \n",
       "57782           NaN               NaN     NaN  NaN                        0  \n",
       "\n",
       "[57783 rows x 21 columns]"
      ]
     },
     "execution_count": 35,
     "metadata": {},
     "output_type": "execute_result"
    }
   ],
   "source": [
    "gpp_ihs_drc_sds= pd.concat([gpp_ihs, df_drc[['DRC150']], df_sds[['SDS']], drc150_snp_count['DRC150_signif_snp_count']], axis=1)\n",
    "gpp_ihs_drc_sds"
   ]
  },
  {
   "cell_type": "markdown",
   "metadata": {},
   "source": [
    "Merging gpp_ihs_drc_sds with df_gnomAD"
   ]
  },
  {
   "cell_type": "code",
   "execution_count": 36,
   "metadata": {},
   "outputs": [],
   "source": [
    "gpp_ihs_gnomad = pd.merge(left=gpp_ihs_drc_sds, right=df_gnomad, left_on='gene_name', \n",
    "                      right_on='gene', how='left')"
   ]
  },
  {
   "cell_type": "markdown",
   "metadata": {},
   "source": [
    "Merging gpp_ihs_gnomad with GO data and BioGRID"
   ]
  },
  {
   "cell_type": "code",
   "execution_count": 40,
   "metadata": {},
   "outputs": [],
   "source": [
    "gpp_ihs_gnomad_go = pd.merge(left=gpp_ihs_gnomad, right=go, on='gene_name', how='left')"
   ]
  },
  {
   "cell_type": "code",
   "execution_count": 60,
   "metadata": {},
   "outputs": [],
   "source": [
    "gpp_ihs_gnomad_go_bg = pd.merge(left=gpp_ihs_gnomad_go, right=biogrid, on='gene_name', how='left')"
   ]
  },
  {
   "cell_type": "code",
   "execution_count": 67,
   "metadata": {},
   "outputs": [
    {
     "name": "stdout",
     "output_type": "stream",
     "text": [
      "Shape of merged data: (57874, 30)\n"
     ]
    }
   ],
   "source": [
    "print(f'Shape of merged data: {gpp_ihs_gnomad_go_bg.shape}')"
   ]
  },
  {
   "cell_type": "markdown",
   "metadata": {},
   "source": [
    "After merging all data, extra rows appear. These are duplicates due to repeated gene names"
   ]
  },
  {
   "cell_type": "code",
   "execution_count": 68,
   "metadata": {},
   "outputs": [
    {
     "name": "stdout",
     "output_type": "stream",
     "text": [
      "Number of duplicates: 184\n",
      "Shape before filtering from duplicates: 57874\n",
      "Shape before filtering from duplicates: 57783\n"
     ]
    }
   ],
   "source": [
    "#clear all duplicates based on start, end of gene\n",
    "duplicates = gpp_ihs_gnomad_go_bg.duplicated(subset=['chr', 'gene_name', 'start', 'end'], keep=False)\n",
    "print(f'Number of duplicates: {duplicates.sum()}')\n",
    "\n",
    "#remove duplicates, leaving the first occurrence behind\n",
    "filtered_data = gpp_ihs_gnomad_go_bg.drop_duplicates(subset=['chr', 'gene_name', 'start', 'end', 'gene_type'], keep='first')\n",
    "\n",
    "#check result\n",
    "print(f'Shape before filtering from duplicates: {gpp_ihs_gnomad_go_bg.shape[0]}')\n",
    "print(f'Shape before filtering from duplicates: {filtered_data.shape[0]}')"
   ]
  },
  {
   "cell_type": "markdown",
   "metadata": {},
   "source": [
    "Check result"
   ]
  },
  {
   "cell_type": "code",
   "execution_count": 73,
   "metadata": {},
   "outputs": [
    {
     "data": {
      "text/plain": [
       "True"
      ]
     },
     "execution_count": 73,
     "metadata": {},
     "output_type": "execute_result"
    }
   ],
   "source": [
    "set(annot['gene_name']) == set(filtered_data['gene_name'])"
   ]
  },
  {
   "cell_type": "markdown",
   "metadata": {},
   "source": [
    "Fun Fact: in human genome annotation some genes have same start/end/gene name, but different `gene_type`"
   ]
  },
  {
   "cell_type": "code",
   "execution_count": 72,
   "metadata": {},
   "outputs": [
    {
     "data": {
      "text/html": [
       "<div>\n",
       "<style scoped>\n",
       "    .dataframe tbody tr th:only-of-type {\n",
       "        vertical-align: middle;\n",
       "    }\n",
       "\n",
       "    .dataframe tbody tr th {\n",
       "        vertical-align: top;\n",
       "    }\n",
       "\n",
       "    .dataframe thead th {\n",
       "        text-align: right;\n",
       "    }\n",
       "</style>\n",
       "<table border=\"1\" class=\"dataframe\">\n",
       "  <thead>\n",
       "    <tr style=\"text-align: right;\">\n",
       "      <th></th>\n",
       "      <th>chr</th>\n",
       "      <th>start</th>\n",
       "      <th>end</th>\n",
       "      <th>strand</th>\n",
       "      <th>gene_name</th>\n",
       "      <th>gene_type</th>\n",
       "    </tr>\n",
       "  </thead>\n",
       "  <tbody>\n",
       "    <tr>\n",
       "      <th>27050</th>\n",
       "      <td>chr19</td>\n",
       "      <td>36208920</td>\n",
       "      <td>36229779</td>\n",
       "      <td>+</td>\n",
       "      <td>KMT2B</td>\n",
       "      <td>processed_transcript</td>\n",
       "    </tr>\n",
       "    <tr>\n",
       "      <th>27051</th>\n",
       "      <td>chr19</td>\n",
       "      <td>36208920</td>\n",
       "      <td>36229779</td>\n",
       "      <td>+</td>\n",
       "      <td>KMT2B</td>\n",
       "      <td>protein_coding</td>\n",
       "    </tr>\n",
       "  </tbody>\n",
       "</table>\n",
       "</div>"
      ],
      "text/plain": [
       "         chr     start       end strand gene_name             gene_type\n",
       "27050  chr19  36208920  36229779      +     KMT2B  processed_transcript\n",
       "27051  chr19  36208920  36229779      +     KMT2B        protein_coding"
      ]
     },
     "execution_count": 72,
     "metadata": {},
     "output_type": "execute_result"
    }
   ],
   "source": [
    "duplicates_mask = annot.duplicated(subset=['chr', 'start', 'end', 'gene_name'], keep=False)\n",
    "annot[duplicates_mask]"
   ]
  },
  {
   "cell_type": "markdown",
   "metadata": {},
   "source": [
    "Merge with GTEx data"
   ]
  },
  {
   "cell_type": "code",
   "execution_count": 92,
   "metadata": {},
   "outputs": [],
   "source": [
    "path_to_gtex_v8 = os.path.join(current_dir, '..', 'data', 'gtex_median_gene_expression_by_tissue', 'gtex_counts_v8.tsv')\n",
    "gtex = pd.read_csv(path_to_gtex_v8, sep='\\t')"
   ]
  },
  {
   "cell_type": "code",
   "execution_count": null,
   "metadata": {},
   "outputs": [],
   "source": [
    "all_data = pd.merge(filtered_data, gtex, left_on='gene_name', right_on='Description', how='left')\n",
    "all_data.rename(columns={'Name': 'ENSG_from_GTEx', 'interactors': 'interactors_bg', \n",
    "                  'n_interactions': 'n_interactions'}, inplace=True)"
   ]
  },
  {
   "cell_type": "code",
   "execution_count": 107,
   "metadata": {},
   "outputs": [
    {
     "data": {
      "text/plain": [
       "Index(['chr', 'start', 'end', 'gene_name', 'gene_type', 'gene_len',\n",
       "       'gene_len_500', 'RS_value', 'RS_500_value', 'phast_value',\n",
       "       'phast_500_value', 'phylo_value', 'phylo_500_value', 'iHS_GBR_max_500',\n",
       "       'expected_iHS', 'iHS_snps_per_gene', 'pval_iHS_max', 'pval_iHS_max_fdr',\n",
       "       'DRC150', 'SDS', 'DRC150_signif_snp_count', 'gene', 'chromosome',\n",
       "       'oe_lof_upper', 'pLI', 'mis_z', 'GO_BP_Count', 'GO_MF_Count',\n",
       "       'interactors_bg', 'n_interactions', 'ENSG_from_GTEx', 'Description',\n",
       "       'median_expr_all_tissues', 'max_expr_all_tissues',\n",
       "       'num_tissues_at_least_5_TPM'],\n",
       "      dtype='object')"
      ]
     },
     "execution_count": 107,
     "metadata": {},
     "output_type": "execute_result"
    }
   ],
   "source": [
    "all_data.columns"
   ]
  },
  {
   "cell_type": "code",
   "execution_count": 108,
   "metadata": {},
   "outputs": [],
   "source": [
    "#save all data\n",
    "path_to_all_data = (os.path.join(current_dir, '..', 'data', 'merged_data',\n",
    "                                           'css_project_metrics.tsv'))\n",
    "\n",
    "all_data[['chr', 'start', 'end', 'gene_name', 'gene_type', 'gene_len',\n",
    "       'gene_len_500', 'RS_value', 'RS_500_value', 'phast_value',\n",
    "       'phast_500_value', 'phylo_value', 'phylo_500_value', 'iHS_GBR_max_500',\n",
    "       'expected_iHS', 'iHS_snps_per_gene', 'pval_iHS_max', 'pval_iHS_max_fdr',\n",
    "       'DRC150', 'SDS', 'DRC150_signif_snp_count', 'oe_lof_upper', 'pLI', 'mis_z', \n",
    "       'GO_BP_Count', 'GO_MF_Count', 'interactors_bg', 'n_interactions', \n",
    "       'ENSG_from_GTEx', 'median_expr_all_tissues', 'max_expr_all_tissues',\n",
    "       'num_tissues_at_least_5_TPM']].to_csv(path_to_all_data, sep='\\t', header=True, index=False)"
   ]
  },
  {
   "cell_type": "markdown",
   "metadata": {},
   "source": [
    "# Filter SNPs for DRC150\n",
    "\n",
    "Obtained data merged with df"
   ]
  },
  {
   "cell_type": "code",
   "execution_count": 100,
   "metadata": {},
   "outputs": [],
   "source": [
    "drc150 = pd.read_csv(os.path.join(current_dir, '..', 'data', 'drc150_positive_selection', 'DRC_150.180813.bed'),\n",
    "                     sep='\\t', names=['chr', 'start', 'end', 'drc150', 'pval'])\n",
    "drc150['chr'] = drc150['chr'].apply(lambda x: f'chr{x}')"
   ]
  },
  {
   "cell_type": "code",
   "execution_count": 106,
   "metadata": {},
   "outputs": [],
   "source": [
    "#fdr correction \n",
    "drc150['pval_fdr'] = stats.false_discovery_control(ps=drc150['pval'], method='bh')\n",
    "\n",
    "#filtering\n",
    "drc150_filtered = drc150.query('pval_fdr < 0.05')"
   ]
  },
  {
   "cell_type": "code",
   "execution_count": null,
   "metadata": {},
   "outputs": [],
   "source": [
    "drc150_filtered[['chr', 'start', 'end', 'pval_fdr']].to_csv(os.path.join(current_dir, '..', 'data', 'drc150_positive_selection', 'drc150_signif_snps.bed'), sep='\\t', index=False)"
   ]
  },
  {
   "cell_type": "markdown",
   "metadata": {},
   "source": [
    "After count significiant SNPs per gene with bedtools"
   ]
  },
  {
   "cell_type": "markdown",
   "metadata": {},
   "source": [
    "# Count protein-protein interactions on BioGRID data\n",
    "\n",
    "File Version: 4.4.245\n",
    "\n",
    "[Link to download](https://downloads.thebiogrid.org/BioGRID/Release-Archive/BIOGRID-4.4.245/)"
   ]
  },
  {
   "cell_type": "markdown",
   "metadata": {},
   "source": [
    "Info about data and columns:\n",
    "\n",
    "Stark C, Breitkreutz BJ, Reguly T, Boucher L, Breitkreutz A, Tyers M. BioGRID: A General Repository for Interaction Datasets.\n",
    "Nucleic Acids Res. Jan1;34:D535-9.\n",
    "\n",
    "A.) INTERACTOR_A\t\t\tUnique ID for Interacting Partner A\n",
    "\n",
    "B.) INTERACTOR_B\t\t\tUnique ID for Interacting Partner B\n",
    "\n",
    "C.) OFFICIAL_SYMBOL_FOR_A\n",
    "\n",
    "D.) OFFICIAL_SYMBOL_FOR_B\n",
    "\n",
    "E.) ALIASES_FOR_A\t\t\tList of common names for geneA, separated by '|'\n",
    "\n",
    "F.) ALIASES_FOR_B\t\t\tList of common names for geneB, separated by '|'\n",
    "\n",
    "G.) EXPERIMENTAL_SYSTEM\t\t\tSystem in which the interaction was shown\n",
    "\n",
    "H.) SOURCE\t\t\t\tAuthor/s of the interaction\n",
    "\n",
    "I.) PUBMED_ID\t\t\t\tPubMed_ID of the paper, separated by ';'\n",
    "\n",
    "J.) ORGANISM_A_ID\t\t\tNCBI ID of Gene A Organism\n",
    "\n",
    "K.) ORGANISM_B_ID\t\t\tNCBI ID of Gene B Organism"
   ]
  },
  {
   "cell_type": "markdown",
   "metadata": {},
   "source": [
    "Code from the [pleiotropy research project](https://github.com/Ibre-research/pleiotropy_analysis/blob/main/preliminary_analysis.ipynb) was used as a code example"
   ]
  },
  {
   "cell_type": "code",
   "execution_count": 5,
   "metadata": {},
   "outputs": [],
   "source": [
    "#due to the large size of the data files for this code is not in the repository\n",
    "path_to_biogrid = os.path.abspath(os.path.join(current_dir, '..', 'data', 'biogrid',\n",
    "                                            'biogrid_organism_Hs_4.4.245.txt'))\n",
    "\n",
    "bg = pd.read_csv(path_to_biogrid, sep='\\t', low_memory=False)"
   ]
  },
  {
   "cell_type": "code",
   "execution_count": 10,
   "metadata": {},
   "outputs": [
    {
     "data": {
      "text/html": [
       "<div>\n",
       "<style scoped>\n",
       "    .dataframe tbody tr th:only-of-type {\n",
       "        vertical-align: middle;\n",
       "    }\n",
       "\n",
       "    .dataframe tbody tr th {\n",
       "        vertical-align: top;\n",
       "    }\n",
       "\n",
       "    .dataframe thead th {\n",
       "        text-align: right;\n",
       "    }\n",
       "</style>\n",
       "<table border=\"1\" class=\"dataframe\">\n",
       "  <thead>\n",
       "    <tr style=\"text-align: right;\">\n",
       "      <th></th>\n",
       "      <th>gene_name</th>\n",
       "      <th>interactors</th>\n",
       "      <th>n_interactions</th>\n",
       "    </tr>\n",
       "  </thead>\n",
       "  <tbody>\n",
       "    <tr>\n",
       "      <th>0</th>\n",
       "      <td>MAP2K4</td>\n",
       "      <td>{ZDHHC17, MAP3K2, MAP2K4, SPAG9, GEMIN5, CNDP2...</td>\n",
       "      <td>126</td>\n",
       "    </tr>\n",
       "    <tr>\n",
       "      <th>1</th>\n",
       "      <td>FLNC</td>\n",
       "      <td>{MAP2K4, IARS, WDR77, PIAS1, MARS, FASN, MECP2...</td>\n",
       "      <td>271</td>\n",
       "    </tr>\n",
       "    <tr>\n",
       "      <th>2</th>\n",
       "      <td>MYPN</td>\n",
       "      <td>{KIF14, NEBL, BAG6, NEB, ACTN3, ANKRD1, PALLD,...</td>\n",
       "      <td>37</td>\n",
       "    </tr>\n",
       "    <tr>\n",
       "      <th>3</th>\n",
       "      <td>ACTN2</td>\n",
       "      <td>{LDB3, ACTN3, ODF3B, TPM2, ZC2HC1C, GRIN1, PPP...</td>\n",
       "      <td>192</td>\n",
       "    </tr>\n",
       "    <tr>\n",
       "      <th>4</th>\n",
       "      <td>ACVR1</td>\n",
       "      <td>{FKBP1A, OSTF1, PSMD14, ERBB2, INHBA, ACVR1B, ...</td>\n",
       "      <td>99</td>\n",
       "    </tr>\n",
       "    <tr>\n",
       "      <th>...</th>\n",
       "      <td>...</td>\n",
       "      <td>...</td>\n",
       "      <td>...</td>\n",
       "    </tr>\n",
       "    <tr>\n",
       "      <th>20220</th>\n",
       "      <td>IGKV1-9</td>\n",
       "      <td>{SHANK3}</td>\n",
       "      <td>1</td>\n",
       "    </tr>\n",
       "    <tr>\n",
       "      <th>20221</th>\n",
       "      <td>TRBV10-2</td>\n",
       "      <td>{SHANK3}</td>\n",
       "      <td>1</td>\n",
       "    </tr>\n",
       "    <tr>\n",
       "      <th>20222</th>\n",
       "      <td>IGKV3D-15</td>\n",
       "      <td>{SHANK3}</td>\n",
       "      <td>1</td>\n",
       "    </tr>\n",
       "    <tr>\n",
       "      <th>20223</th>\n",
       "      <td>NPY6R</td>\n",
       "      <td>{CHD8}</td>\n",
       "      <td>1</td>\n",
       "    </tr>\n",
       "    <tr>\n",
       "      <th>20224</th>\n",
       "      <td>SLC6A7</td>\n",
       "      <td>{SNCA}</td>\n",
       "      <td>1</td>\n",
       "    </tr>\n",
       "  </tbody>\n",
       "</table>\n",
       "<p>20225 rows × 3 columns</p>\n",
       "</div>"
      ],
      "text/plain": [
       "       gene_name                                        interactors  \\\n",
       "0         MAP2K4  {ZDHHC17, MAP3K2, MAP2K4, SPAG9, GEMIN5, CNDP2...   \n",
       "1           FLNC  {MAP2K4, IARS, WDR77, PIAS1, MARS, FASN, MECP2...   \n",
       "2           MYPN  {KIF14, NEBL, BAG6, NEB, ACTN3, ANKRD1, PALLD,...   \n",
       "3          ACTN2  {LDB3, ACTN3, ODF3B, TPM2, ZC2HC1C, GRIN1, PPP...   \n",
       "4          ACVR1  {FKBP1A, OSTF1, PSMD14, ERBB2, INHBA, ACVR1B, ...   \n",
       "...          ...                                                ...   \n",
       "20220    IGKV1-9                                           {SHANK3}   \n",
       "20221   TRBV10-2                                           {SHANK3}   \n",
       "20222  IGKV3D-15                                           {SHANK3}   \n",
       "20223      NPY6R                                             {CHD8}   \n",
       "20224     SLC6A7                                             {SNCA}   \n",
       "\n",
       "       n_interactions  \n",
       "0                 126  \n",
       "1                 271  \n",
       "2                  37  \n",
       "3                 192  \n",
       "4                  99  \n",
       "...               ...  \n",
       "20220               1  \n",
       "20221               1  \n",
       "20222               1  \n",
       "20223               1  \n",
       "20224               1  \n",
       "\n",
       "[20225 rows x 3 columns]"
      ]
     },
     "execution_count": 10,
     "metadata": {},
     "output_type": "execute_result"
    }
   ],
   "source": [
    "#due to the large size of the data files for this code is not in the repository\n",
    "#filter data for human (Taxonomy ID 9606)\n",
    "bg_filtered = bg[(bg['ORGANISM_A_ID'] == 9606) & (bg['ORGANISM_B_ID'] == 9606)]\n",
    "\n",
    "interactions = defaultdict(lambda: {\n",
    "    'gene_name': None,\n",
    "    'interactors': set(),\n",
    "    'n_interactions': 0\n",
    "})\n",
    "\n",
    "for _, row in bg_filtered.iterrows():\n",
    "    gene_a = row['OFFICIAL_SYMBOL_A']\n",
    "    gene_b = row['OFFICIAL_SYMBOL_B']\n",
    "    \n",
    "    interactions[gene_a]['gene_name'] = gene_a \n",
    "    interactions[gene_a]['interactors'].add(gene_b)\n",
    "    interactions[gene_a]['n_interactions'] += 1\n",
    "    \n",
    "    interactions[gene_b]['gene_name'] = gene_b  \n",
    "    interactions[gene_b]['interactors'].add(gene_a)\n",
    "    interactions[gene_b]['n_interactions'] += 1\n",
    "\n",
    "interactions = pd.DataFrame.from_dict(interactions, orient='index')\n",
    "interactions = interactions.reset_index(drop=True)\n",
    "interactions"
   ]
  },
  {
   "cell_type": "code",
   "execution_count": 16,
   "metadata": {},
   "outputs": [],
   "source": [
    "path_to_bg_inter = os.path.abspath(os.path.join(current_dir, '..', 'data', 'biogrid',\n",
    "                                            'biogrid_n_interactions_per_gene.tsv'))\n",
    "interactions.to_csv(path_to_bg_inter, index=False, sep='\\t')"
   ]
  },
  {
   "cell_type": "markdown",
   "metadata": {},
   "source": [
    "# Preparing of GTEx data\n",
    "\n",
    "Data Version: 8"
   ]
  },
  {
   "cell_type": "code",
   "execution_count": 80,
   "metadata": {},
   "outputs": [],
   "source": [
    "path_to_gtex8 = os.path.abspath(os.path.join(current_dir, '..', 'data', 'gtex_median_gene_expression_by_tissue',\n",
    "                                            'gtex_v8_gene_median_tpm.gct'))\n",
    "\n",
    "#ENSG for chrM genes\n",
    "path_to_ensg_chrM = os.path.abspath(os.path.join(current_dir, '..', 'data', 'annotation',\n",
    "                                            'ensg_chrM_hg19.tsv'))\n",
    "\n",
    "gtex8 = pd.read_csv(path_to_gtex8, sep='\\t')\n",
    "ensg_chrM = pd.read_csv(path_to_ensg_chrM, sep='\\t', names=['chr', 'start', 'end', 'gene_name', 'ENSG', 'gene_type'])"
   ]
  },
  {
   "cell_type": "code",
   "execution_count": 81,
   "metadata": {},
   "outputs": [],
   "source": [
    "#median\n",
    "gtex8['median_expr_all_tissues'] = gtex8.iloc[:, 2:70].median(axis=1)\n",
    "\n",
    "#max\n",
    "gtex8['max_expr_all_tissues'] = gtex8.iloc[:, 2:70].max(axis=1)\n",
    "\n",
    "#number of tissues in which a given gene is expressed at the level of at least 5 TPM\n",
    "gtex8['num_tissues_at_least_5_TPM'] = gtex8.iloc[:, 2:70].apply(lambda x: (x >= 5).sum(), axis=1)"
   ]
  },
  {
   "cell_type": "code",
   "execution_count": 86,
   "metadata": {},
   "outputs": [],
   "source": [
    "#code from pleiotropy project \n",
    "#remove duplicates\n",
    "duplicates = gtex8[gtex8.duplicated(subset=['Description'], keep=False)]\n",
    "\n",
    "# remove duplicates with 0 expression related to _PAR_Y\n",
    "for index, row in duplicates.iterrows():\n",
    "    if (row['median_expr_all_tissues'] == 0) and (row['max_expr_all_tissues'] == 0) and (row['num_tissues_at_least_5_TPM'] == 0):\n",
    "        gtex8 = gtex8.drop(index)\n",
    "\n",
    "# delete all duplicates with double ENSG\n",
    "gtex8.drop_duplicates(subset=['Description'], keep=False, inplace=True)"
   ]
  },
  {
   "cell_type": "code",
   "execution_count": 88,
   "metadata": {},
   "outputs": [
    {
     "name": "stdout",
     "output_type": "stream",
     "text": [
      "Shape of gtex8_filtered from chrM genes (54428, 59)\n"
     ]
    }
   ],
   "source": [
    "#delete chrM genes\n",
    "gtex8_filtered = gtex8[~gtex8['Description'].str.startswith('MT-')]\n",
    "print(f'Shape of gtex8_filtered from chrM genes {gtex8_filtered.shape}')"
   ]
  },
  {
   "cell_type": "code",
   "execution_count": 89,
   "metadata": {},
   "outputs": [
    {
     "name": "stdout",
     "output_type": "stream",
     "text": [
      "Shape of gtex8 after all filtering (54428, 59)\n"
     ]
    }
   ],
   "source": [
    "print(f'Shape of gtex8 after all filtering {gtex8_filtered.shape}')"
   ]
  },
  {
   "cell_type": "code",
   "execution_count": 90,
   "metadata": {},
   "outputs": [
    {
     "name": "stdout",
     "output_type": "stream",
     "text": [
      "Number ENSG ID in gtex_filtered df: 0\n"
     ]
    }
   ],
   "source": [
    "#get list of names from column Description\n",
    "gtex_genes = gtex8['Description'].to_list()\n",
    "ensg_in_descr_column = [name for name in gtex_genes if name.startswith('ENSG')]\n",
    "print(f'Number ENSG ID in gtex_filtered df: {len(ensg_in_descr_column)}')"
   ]
  },
  {
   "cell_type": "code",
   "execution_count": 91,
   "metadata": {},
   "outputs": [],
   "source": [
    "#save data\n",
    "path_to_gtex_v8 = os.path.join(current_dir, '..', 'data', 'gtex_median_gene_expression_by_tissue', 'gtex_counts_v8.tsv')\n",
    "gtex8[['Name', 'Description', 'median_expr_all_tissues', 'max_expr_all_tissues', \n",
    "       'num_tissues_at_least_5_TPM']].to_csv(path_to_gtex_v8, sep='\\t', index=False)"
   ]
  },
  {
   "cell_type": "markdown",
   "metadata": {},
   "source": [
    "##### Thinking about column `Description`\n",
    "\n",
    "In this column there are ENSG ID and gene names in GTEx v.10\n",
    "\n",
    "Search what is with ENSG ID\n",
    "\n",
    "Use `mygene` package to get info about ENSG ID from column `Description`"
   ]
  },
  {
   "cell_type": "code",
   "execution_count": 115,
   "metadata": {},
   "outputs": [
    {
     "name": "stdout",
     "output_type": "stream",
     "text": [
      "Number ENSG ID in gtex_filtered df: 19118\n"
     ]
    }
   ],
   "source": [
    "#get list of names from column Description\n",
    "path_to_gtex10 = os.path.join(current_dir, '..', 'data', 'gtex_median_gene_expression_by_tissue',\n",
    "                                            'gtex_v10_gene_median_tpm.gct')\n",
    "\n",
    "gtex_raw = pd.read_csv(path_to_gtex10, sep='\\t')\n",
    "gtex_genes = gtex_raw['Description'].to_list()\n",
    "ensg_in_descr_column = [name for name in gtex_genes if name.startswith('ENSG')]\n",
    "print(f'Number ENSG ID in gtex_filtered df: {len(ensg_in_descr_column)}')"
   ]
  },
  {
   "cell_type": "code",
   "execution_count": 116,
   "metadata": {},
   "outputs": [
    {
     "name": "stderr",
     "output_type": "stream",
     "text": [
      "Input sequence provided is already in string format. No operation performed\n",
      "Input sequence provided is already in string format. No operation performed\n",
      "29 input query terms found dup hits:\t[('ENSG00000228044', 2), ('ENSG00000226506', 2), ('ENSG00000261600', 2), ('ENSG00000234162', 2), ('E\n",
      "988 input query terms found no hit:\t['ENSG00000238009', 'ENSG00000288531', 'ENSG00000230699', 'ENSG00000241180', 'ENSG00000236948', 'ENS\n"
     ]
    }
   ],
   "source": [
    "#get data about ENSG from column Description\n",
    "import mygene\n",
    "mg = mygene.MyGeneInfo()\n",
    "result = mg.querymany(ensg_in_descr_column, scopes=\"ensembl.gene\", fields=\"symbol,name\", species=\"human\")\n",
    "\n",
    "result_dict = {}\n",
    "for gene in result:\n",
    "    result_dict[f'{gene['query']}'] = (f'{gene.get('symbol', 'N/A')}', f'{gene.get('name', 'N/A')}')"
   ]
  },
  {
   "cell_type": "code",
   "execution_count": 117,
   "metadata": {},
   "outputs": [],
   "source": [
    "#make df for obtained from mygene data\n",
    "ensg_list = list()\n",
    "gene_names = list()\n",
    "description = list()\n",
    "\n",
    "for ensg, gene in result_dict.items():\n",
    "    ensg_list.append(ensg)\n",
    "    gene_names.append(gene[0])\n",
    "    description.append(gene[1])\n",
    "\n",
    "df_ensg_in_descr_col = pd.DataFrame({'ENSG': ensg_list,\n",
    "                                     'gene_name': gene_names,\n",
    "                                     'description': description})\n",
    "\n",
    "#df_ensg_in_descr_col_no_na = df_ensg_in_descr_col.query('gene_name != \"N/A\" and description != \"N/A\"')\n",
    "#df_ensg_in_descr_col_no_na.to_csv('gtex_ensg_in_descr_col.tsv', sep='\\t', index=False)"
   ]
  }
 ],
 "metadata": {
  "kernelspec": {
   "display_name": "Python 3",
   "language": "python",
   "name": "python3"
  },
  "language_info": {
   "codemirror_mode": {
    "name": "ipython",
    "version": 3
   },
   "file_extension": ".py",
   "mimetype": "text/x-python",
   "name": "python",
   "nbconvert_exporter": "python",
   "pygments_lexer": "ipython3",
   "version": "3.12.2"
  }
 },
 "nbformat": 4,
 "nbformat_minor": 2
}
