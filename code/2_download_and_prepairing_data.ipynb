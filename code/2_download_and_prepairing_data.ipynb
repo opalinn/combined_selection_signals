{
 "cells": [
  {
   "cell_type": "markdown",
   "metadata": {},
   "source": [
    "# Geting data for project"
   ]
  },
  {
   "cell_type": "markdown",
   "metadata": {},
   "source": [
    "## GERP++, phastCons, phyloP metrics\n",
    "\n",
    "1. Sources (.bw files from UCSC Table Browser)\n",
    "\n",
    "Download via ftp\n",
    "\n",
    "GERP https://hgdownload.soe.ucsc.edu/gbdb/hg19/bbi/All_hg19_RS.bw\n",
    "\n",
    "phastCons https://hgdownload.soe.ucsc.edu/goldenPath/hg19/phastCons100way/\n",
    "\n",
    "phyloP https://hgdownload.soe.ucsc.edu/goldenPath/hg19/phyloP100way/\n",
    "\n",
    "2. Get .bedGraph\n",
    "\n",
    "```bash\n",
    "bigWigToBedGraph in.bigWig out.bedGraph\n",
    "```\n",
    "\n",
    "3. Run bedtools map\n",
    "\n",
    "```bash\n",
    "nohup bedtools map -a annotation_genes_sorted.bed -b phyloP_100way_hg19.bedGraph -c 4 > phyloP_100way_summary_by_gene.bed &\n",
    "```\n",
    "\n",
    "ATTENTION! Files with raw data are very big (about 60-70 Gb after unzipping)"
   ]
  },
  {
   "cell_type": "markdown",
   "metadata": {},
   "source": [
    "## gnomAD metrics of selective constraint (pLI, LOEUF, Z-scores or o/e ratios for missense variants)\n",
    "\n",
    "1. Sources\n",
    "\n",
    "**gnomAD v.2** (GRCh37/hg19)\n",
    "\n",
    "[Link to Metrics by Gene TSV](https://storage.googleapis.com/gcp-public-data--gnomad/release/2.1.1/constraint/gnomad.v2.1.1.lof_metrics.by_gene.txt.bgz)\n",
    "\n",
    "**gnomAD v.4** (GRCh38) will be added later\n",
    "\n",
    "[Link to Constraint metrics TSV](https://storage.googleapis.com/gcp-public-data--gnomad/release/4.1/constraint/gnomad.v4.1.constraint_metrics.tsv)\n"
   ]
  },
  {
   "cell_type": "markdown",
   "metadata": {},
   "source": [
    "## iHS \n",
    "\n",
    "[Article](https://www.nature.com/articles/s41559-018-0478-6)\n",
    "\n",
    "[Data](https://zenodo.org/records/7842512)\n",
    "\n",
    "We chose a single population `GBR` to analyze and take maximum (by abs()) iHS value per gene. For each gene we calculated number of SNPs and obtained the expected iHS score (qnorm(1 - 1/n_snp)). After we computed the p-value: p = 1 - pnorm(gene_max_ihs)^n_snp [link](https://stats.stackexchange.com/questions/381212/distribution-of-maximum-of-normally-distributed-random-variables)"
   ]
  },
  {
   "cell_type": "markdown",
   "metadata": {},
   "source": [
    "## DRC150\n",
    "\n",
    "This data was collected in the same manner as iHS. \n",
    "\n",
    "[Link to paper](https://www.nature.com/articles/s41588-018-0177-x)\n",
    "\n",
    "[Link to data](https://palamaralab.github.io/software/asmc/data/)\n",
    "\n",
    "Unzip -> take only 1-4 columns (5th is pval for pos) -> sort -> `sed 's/^/chr/' DRC150_sorted.bed > DRC150_fixed.bed` -> bedtools map"
   ]
  },
  {
   "cell_type": "markdown",
   "metadata": {},
   "source": [
    "## SDS\n",
    "\n",
    "[Link to paper](https://www.science.org/doi/10.1126/science.aag0776)\n",
    "\n",
    "[Link to data](https://web.stanford.edu/group/pritchardlab/dataArchive.html)\n",
    "\n",
    "Unzip -> take last column -> convert numbers with e^x -> bedtools map\n",
    "\n",
    "```bash\n",
    " awk 'BEGIN{OFS=\"\\t\"} {for(i=1;i<=NF;i++) if($i~/e/)$i=sprintf(\"%.0f\",$i)}1' SDS_values_sorted.bed > SDS_converted.bed\n",
    "```"
   ]
  }
 ],
 "metadata": {
  "language_info": {
   "name": "python"
  }
 },
 "nbformat": 4,
 "nbformat_minor": 2
}
